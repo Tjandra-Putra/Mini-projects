{
 "cells": [
  {
   "cell_type": "code",
   "execution_count": null,
   "metadata": {},
   "outputs": [],
   "source": [
    "# You have been hired to implement the new burger ordering system at the \"Irresistible Burger Bar\". Their previous \n",
    "# programmer has already implemented a system for the staff personnel to determine the price of a burger order and\n",
    "# to print receipts. To revitalize the burger experience for customers, the management is setting up self-service ordering\n",
    "# kiosks with a set of new cool features. Your task is to implement the software system for the new self-serice ordering\n",
    "# kiosk. The burger details are as follows:\n",
    "\n",
    "# 'B' stands for a piece of bun $2\n",
    "# 'C' stands for cheese $1.50\n",
    "# 'P' stands for patty $3\n",
    "# 'V' stands for veggies $1.20\n",
    "# 'O' stands for onions $0.50\n",
    "# 'M' stands for mushroom $1\n",
    "\n",
    "# Examples:\n",
    "# Simple burger -> 'BVPB'\n",
    "# Double cheese burger -> 'BVCPCPB'\n",
    "\n",
    "# Objective\n",
    "# Create order system, receipt\n",
    "\n",
    "# Conditions\n",
    "# Burger must have at least two buns"
   ]
  },
  {
   "cell_type": "code",
   "execution_count": null,
   "metadata": {},
   "outputs": [],
   "source": [
    "from random import randint\n",
    "from datetime import datetime"
   ]
  },
  {
   "cell_type": "code",
   "execution_count": null,
   "metadata": {},
   "outputs": [],
   "source": [
    "total_price = 0\n",
    "counter_buns = 0\n",
    "selected_ingredients = []\n",
    "available_ingredients = []"
   ]
  },
  {
   "cell_type": "code",
   "execution_count": null,
   "metadata": {},
   "outputs": [],
   "source": [
    "for key, value in ingredients.items():\n",
    "    available_ingredients.append(key)"
   ]
  },
  {
   "cell_type": "code",
   "execution_count": null,
   "metadata": {},
   "outputs": [],
   "source": [
    "while True:\n",
    "    customer_input = input(\"Select ingredient: \").upper()\n",
    "\n",
    "    if customer_input in available_ingredients:\n",
    "        selected_ingredients.append(customer_input)\n",
    "\n",
    "        # Calculate total price\n",
    "        for key, value in ingredients.items():\n",
    "            if customer_input == key:\n",
    "                total_price += value\n",
    "\n",
    "        # Count total buns, minimum two\n",
    "        if customer_input == \"B\":\n",
    "            counter_buns += 1\n",
    "\n",
    "        print(\"Your ingredients: {}, Total Price: ${}\".format(selected_ingredients, total_price))\n",
    "        print(\"BUNS: \" + str(counter_buns))\n",
    "\n",
    "    elif customer_input == \"Q\":\n",
    "        if total_price < 5:\n",
    "            print(\"ERROR: Minimum amount must be $5\")\n",
    "\n",
    "        if counter_buns < 2:\n",
    "            print(\"ERROR: Minimum 2 buns\")\n",
    "\n",
    "        elif total_price >= 5 and counter_buns >= 2:\n",
    "            print(\"ORDER CONFIRMED\")\n",
    "            print(\"---------RECEIPT---------\")\n",
    "            print(\"Your order number is {}\".format(str(randint(1, 200))))\n",
    "            print(\"Selected ingredients: {}\".format(str(selected_ingredients)))\n",
    "            print(\"TOTAL: ${}, DATE: {}\".format(str(total_price), str(datetime.now())))\n",
    "            print(\"-------------------------\")\n",
    "            break\n",
    "\n",
    "    else:\n",
    "        print(\"ERROR: Ingredient does not exist\")"
   ]
  }
 ],
 "metadata": {
  "kernelspec": {
   "display_name": "Python 3",
   "language": "python",
   "name": "python3"
  },
  "language_info": {
   "codemirror_mode": {
    "name": "ipython",
    "version": 3
   },
   "file_extension": ".py",
   "mimetype": "text/x-python",
   "name": "python",
   "nbconvert_exporter": "python",
   "pygments_lexer": "ipython3",
   "version": "3.6.8"
  }
 },
 "nbformat": 4,
 "nbformat_minor": 4
}
